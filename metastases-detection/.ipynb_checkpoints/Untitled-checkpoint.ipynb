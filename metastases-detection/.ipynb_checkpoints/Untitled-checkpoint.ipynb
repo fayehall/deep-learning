{
 "cells": [
  {
   "cell_type": "markdown",
   "id": "operating-insulation",
   "metadata": {},
   "source": [
    "# Histopathological Image Analysis Using Deep Learning"
   ]
  },
  {
   "cell_type": "markdown",
   "id": "exterior-rebate",
   "metadata": {},
   "source": [
    "## Step 0: Import Datasets\n",
    "\n",
    "* Download the [PatchCamelyon (PCam) datasset](https://github.com/basveeling/pcam).  Unzip the folder and place it under '~/data/pcam' "
   ]
  },
  {
   "cell_type": "code",
   "execution_count": 1,
   "id": "square-insulation",
   "metadata": {},
   "outputs": [
    {
     "name": "stdout",
     "output_type": "stream",
     "text": [
      "Collecting h5py\n",
      "\u001b[?25l  Downloading https://files.pythonhosted.org/packages/2d/ad/ef3c0df7bf3aa56f2957caed16d603360e93c6d4402d9043cfd084f27e2c/h5py-3.2.1-cp37-cp37m-macosx_10_9_x86_64.whl (2.9MB)\n",
      "\u001b[K    100% |████████████████████████████████| 2.9MB 840kB/s ta 0:00:01\n",
      "\u001b[?25hRequirement already satisfied: numpy>=1.14.5; python_version == \"3.7\" in /Users/fayehall/Library/Python/3.7/lib/python/site-packages (from h5py) (1.19.2)\n",
      "Collecting cached-property; python_version < \"3.8\" (from h5py)\n",
      "  Downloading https://files.pythonhosted.org/packages/48/19/f2090f7dad41e225c7f2326e4cfe6fff49e57dedb5b53636c9551f86b069/cached_property-1.5.2-py2.py3-none-any.whl\n",
      "Installing collected packages: cached-property, h5py\n",
      "Successfully installed cached-property-1.5.2 h5py-3.2.1\n",
      "\u001b[33mYou are using pip version 19.0.3, however version 21.0.1 is available.\n",
      "You should consider upgrading via the 'pip install --upgrade pip' command.\u001b[0m\n"
     ]
    }
   ],
   "source": [
    "import sys\n",
    "!{sys.executable} -m pip install h5py --user\n"
   ]
  },
  {
   "cell_type": "code",
   "execution_count": 8,
   "id": "sharing-technical",
   "metadata": {},
   "outputs": [
    {
     "name": "stdout",
     "output_type": "stream",
     "text": [
      "y\n",
      "y\n",
      "\n",
      "<HDF5 dataset \"y\": shape (32768, 1, 1, 1), type \"|u1\">\n"
     ]
    }
   ],
   "source": [
    "import numpy as np\n",
    "import h5py\n",
    "\n",
    "f = h5py.File('/Users/fayehall/data/pcam/camelyonpatch_level_2_split_test_y.h5','r')\n",
    "f.visit(print)  # to see its structure\n",
    "\n",
    "in_file = '/Users/fayehall/data/pcam/camelyonpatch_level_2_split_test_y.h5'\n",
    "hdf5_file = h5py.File(in_file, \"r\")\n",
    "\n",
    "for keys in hdf5_file:\n",
    "    print(keys + \"\\n\")\n",
    "    print(hdf5_file[keys])\n",
    "\n",
    "hdf5_file.close()"
   ]
  },
  {
   "cell_type": "code",
   "execution_count": 9,
   "id": "demographic-fishing",
   "metadata": {},
   "outputs": [
    {
     "data": {
      "text/plain": [
       "'1.19.2'"
      ]
     },
     "execution_count": 9,
     "metadata": {},
     "output_type": "execute_result"
    }
   ],
   "source": [
    "import numpy as np\n",
    "np.__version__"
   ]
  },
  {
   "cell_type": "code",
   "execution_count": null,
   "id": "loaded-briefs",
   "metadata": {},
   "outputs": [],
   "source": []
  }
 ],
 "metadata": {
  "kernelspec": {
   "display_name": "Python 3",
   "language": "python",
   "name": "python3"
  },
  "language_info": {
   "codemirror_mode": {
    "name": "ipython",
    "version": 3
   },
   "file_extension": ".py",
   "mimetype": "text/x-python",
   "name": "python",
   "nbconvert_exporter": "python",
   "pygments_lexer": "ipython3",
   "version": "3.7.3"
  }
 },
 "nbformat": 4,
 "nbformat_minor": 5
}
